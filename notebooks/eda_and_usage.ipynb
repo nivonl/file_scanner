{
 "cells": [
  {
   "cell_type": "code",
   "execution_count": 2,
   "id": "188168e2-8c33-4ff1-8c2c-f09f9e5bf3ff",
   "metadata": {
    "tags": []
   },
   "outputs": [],
   "source": [
    "import pandas as pd\n",
    "import matplotlib.pyplot as plt\n",
    "import numpy as np\n"
   ]
  },
  {
   "cell_type": "code",
   "execution_count": 3,
   "id": "b3d27d63-e5a6-4c37-826b-c5589d56116b",
   "metadata": {
    "tags": []
   },
   "outputs": [],
   "source": [
    "financials_df = pd.read_csv('../example_data/financials.csv')"
   ]
  },
  {
   "cell_type": "code",
   "execution_count": 4,
   "id": "8657e92f-5135-4828-8cc3-c042fc133ac3",
   "metadata": {
    "tags": []
   },
   "outputs": [],
   "source": [
    "financials_df['digit_count__phone_num'] = financials_df['phone_num'].str.count(r'\\d')\n",
    "financials_df['digit_count__cc_num'] = financials_df['cc_num'].str.count(r'\\d')"
   ]
  },
  {
   "cell_type": "code",
   "execution_count": 8,
   "id": "68a76fc9",
   "metadata": {},
   "outputs": [
    {
     "data": {
      "text/plain": [
       "Index(['customer_id', 'medicare_id', 'first_name', 'last_name', 'street_addr',\n",
       "       'city', 'zipc', 'phone_num', 'email', 'cc_num', 'transaction_amount',\n",
       "       'transaction_date', 'digit_count__phone_num', 'digit_count__cc_num'],\n",
       "      dtype='object')"
      ]
     },
     "execution_count": 8,
     "metadata": {},
     "output_type": "execute_result"
    }
   ],
   "source": [
    "financials_df.columns"
   ]
  },
  {
   "cell_type": "code",
   "execution_count": 21,
   "id": "cb50cd4d-6c03-4b73-8bfe-cefe768e3765",
   "metadata": {
    "tags": []
   },
   "outputs": [
    {
     "data": {
      "text/plain": [
       "0.0"
      ]
     },
     "execution_count": 21,
     "metadata": {},
     "output_type": "execute_result"
    }
   ],
   "source": [
    "financials_df['medicare_id'].isna().mean()"
   ]
  },
  {
   "cell_type": "code",
   "execution_count": 26,
   "id": "027244ef",
   "metadata": {},
   "outputs": [
    {
     "data": {
      "text/plain": [
       "count    99.000000\n",
       "mean     11.505051\n",
       "std       0.873344\n",
       "min      11.000000\n",
       "25%      11.000000\n",
       "50%      11.000000\n",
       "75%      12.000000\n",
       "max      13.000000\n",
       "Name: medicare_id, dtype: float64"
      ]
     },
     "execution_count": 26,
     "metadata": {},
     "output_type": "execute_result"
    }
   ],
   "source": [
    "financials_df['medicare_id'].apply(len).describe()"
   ]
  },
  {
   "cell_type": "code",
   "execution_count": 27,
   "id": "084e0ce9",
   "metadata": {},
   "outputs": [
    {
     "data": {
      "text/plain": [
       "count    99.000000\n",
       "mean     13.252525\n",
       "std       1.886274\n",
       "min       9.000000\n",
       "25%      12.000000\n",
       "50%      13.000000\n",
       "75%      15.000000\n",
       "max      17.000000\n",
       "Name: phone_num, dtype: float64"
      ]
     },
     "execution_count": 27,
     "metadata": {},
     "output_type": "execute_result"
    }
   ],
   "source": [
    "financials_df['phone_num'].apply(len).describe()"
   ]
  },
  {
   "cell_type": "code",
   "execution_count": 29,
   "id": "7d85328b",
   "metadata": {},
   "outputs": [],
   "source": [
    "financials_df['phone_num_clean'] =financials_df['phone_num'].apply(lambda x :x.replace(' ','')) "
   ]
  },
  {
   "cell_type": "code",
   "execution_count": 30,
   "id": "79235918",
   "metadata": {},
   "outputs": [
    {
     "data": {
      "text/plain": [
       "count    99.000000\n",
       "mean     12.323232\n",
       "std       1.671052\n",
       "min       9.000000\n",
       "25%      11.000000\n",
       "50%      12.000000\n",
       "75%      14.000000\n",
       "max      16.000000\n",
       "Name: phone_num_clean, dtype: float64"
      ]
     },
     "execution_count": 30,
     "metadata": {},
     "output_type": "execute_result"
    }
   ],
   "source": [
    "financials_df['phone_num_clean'].apply(len).describe()"
   ]
  },
  {
   "cell_type": "code",
   "execution_count": 6,
   "id": "06ea5c26-083f-4fa6-be6a-1c52538407e8",
   "metadata": {
    "tags": []
   },
   "outputs": [
    {
     "data": {
      "text/plain": [
       "count    99.000000\n",
       "mean     12.040404\n",
       "std       1.477168\n",
       "min       9.000000\n",
       "25%      11.000000\n",
       "50%      12.000000\n",
       "75%      13.000000\n",
       "max      16.000000\n",
       "Name: digit_count__phone_num, dtype: float64"
      ]
     },
     "execution_count": 6,
     "metadata": {},
     "output_type": "execute_result"
    }
   ],
   "source": [
    "financials_df['digit_count__phone_num'].describe()"
   ]
  },
  {
   "cell_type": "code",
   "execution_count": 7,
   "id": "8f8b2d51-344d-473a-8083-db646e8c8271",
   "metadata": {
    "tags": []
   },
   "outputs": [
    {
     "data": {
      "text/plain": [
       "count    99.000000\n",
       "mean     15.222222\n",
       "std       1.562021\n",
       "min      11.000000\n",
       "25%      15.000000\n",
       "50%      16.000000\n",
       "75%      16.000000\n",
       "max      19.000000\n",
       "Name: digit_count__cc_num, dtype: float64"
      ]
     },
     "execution_count": 7,
     "metadata": {},
     "output_type": "execute_result"
    }
   ],
   "source": [
    "financials_df['digit_count__cc_num'].describe()"
   ]
  },
  {
   "cell_type": "code",
   "execution_count": 36,
   "id": "fed40708-5b3c-4e15-be61-9deeb1a97606",
   "metadata": {
    "tags": []
   },
   "outputs": [
    {
     "name": "stdout",
     "output_type": "stream",
     "text": [
      "Report generated and saved to report_20_07.docx\n"
     ]
    }
   ],
   "source": [
    "!python ../code/file_scanner.py ../example_data/financials.csv report_20_07.docx"
   ]
  },
  {
   "cell_type": "code",
   "execution_count": 33,
   "id": "4b6db32b-8f2f-4c9f-a686-9ee83b551d85",
   "metadata": {
    "tags": []
   },
   "outputs": [
    {
     "name": "stderr",
     "output_type": "stream",
     "text": [
      "python: can't open file 'c:\\\\Users\\\\User\\\\Documents\\\\file_scanner\\\\notebooks\\\\scanner.py': [Errno 2] No such file or directory\n"
     ]
    }
   ],
   "source": [
    "!python scanner.py financials.csv report_20_07_2024.docx"
   ]
  },
  {
   "cell_type": "code",
   "execution_count": 33,
   "id": "932678ea-1a9a-4e5f-a401-6aae2302ee32",
   "metadata": {
    "tags": []
   },
   "outputs": [],
   "source": [
    "import re"
   ]
  },
  {
   "cell_type": "code",
   "execution_count": 65,
   "id": "09d5aaa8-9616-4e81-b80b-2fa92d0168e7",
   "metadata": {
    "tags": []
   },
   "outputs": [
    {
     "name": "stdout",
     "output_type": "stream",
     "text": [
      "Credit Card Number : cc_num,  pct match = 75.8%\n",
      "Special Characters : email,  pct match = 100.0%\n",
      "Medicare Beneficiary Identifier : medicare_id,  pct match = 74.7%\n"
     ]
    }
   ],
   "source": [
    "\n",
    "def contains_credit_card(column):\n",
    "    # Regex pattern to match credit card numbers with 13 to 16 digits, \n",
    "    # allowing spaces or hyphens between digits.\n",
    "    credit_card_pattern = re.compile(r'\\b(?:\\d[ -]*?){13,16}\\b')\n",
    "    \n",
    "    # Apply the pattern to the column and return True if the pattern is found.\n",
    "    return column.apply(lambda x: bool(credit_card_pattern.match(str(x))))\n",
    "\n",
    "def contains_special_characters(column):\n",
    "    special_char_pattern = re.compile(r'[^\\w\\s-]')\n",
    "    return column.apply(lambda x: bool(special_char_pattern.search(str(x))))\n",
    "\n",
    "\n",
    "def contains_mbi(column):\n",
    "    # Regex pattern to match Medicare Beneficiary Identifier (MBI) which consists \n",
    "    # of 11 characters including letters (A-Z ,without S, L, O, I, B, and Z) and digits (0-9).\n",
    "    mbi_pattern = re.compile(r'^[AC-HJ-MN-RT-Y0-9]{11}$')\n",
    "    \n",
    "    # Apply the pattern to the column and return True if the pattern is found.\n",
    "    return column.apply(lambda x: bool(mbi_pattern.match(str(x))))\n",
    "\n",
    "# Define Huristics Dictionary\n",
    "Huristics_dict = {\n",
    "                    \"Credit Card Number\": contains_credit_card,\n",
    "                    \"Special Characters\": contains_special_characters,\n",
    "                    \"Medicare Beneficiary Identifier\": contains_mbi\n",
    "                }\n",
    "\n",
    "\n",
    "#load data \n",
    "financials_df = pd.read_csv(file path)\n",
    "\n",
    "#actual matching \n",
    "for title,logic in Huristics_dict.items():\n",
    "    most_fit_column = financials_df.iloc[:,np.argmax(financials_df.apply(lambda x: logic(x).mean(),axis=0))].name\n",
    "    pct_true =  np.max(financials_df.apply(lambda x: logic(x).mean(),axis=0))\n",
    "    print(title,f\": {most_fit_column}, \",f'pct match = {pct_true:.1%}')\n",
    "    \n",
    "## make docx report reporting the matched columns, pct match, other columns that has more than 10% matching and a time stamp "
   ]
  },
  {
   "cell_type": "code",
   "execution_count": 61,
   "id": "396ee2a6-325c-4cb0-b2cb-02b7c8bfdb91",
   "metadata": {
    "tags": []
   },
   "outputs": [
    {
     "name": "stdout",
     "output_type": "stream",
     "text": [
      "medicare_id 74.7%\n"
     ]
    }
   ],
   "source": [
    "rule = contains_mbi\n",
    "\n",
    "most_fit_column = financials_df.iloc[:,np.argmax(financials_df.apply(lambda x: rule(x).mean(),axis=0))].name\n",
    "pct_true =  np.max(financials_df.apply(lambda x: rule(x).mean(),axis=0))\n",
    "\n",
    "print(most_fit_column,\n",
    "     f\"{pct_true:.1%}\")\n"
   ]
  },
  {
   "cell_type": "code",
   "execution_count": 50,
   "id": "99adc698-16e1-4150-9ff7-90ed59071e2d",
   "metadata": {
    "tags": []
   },
   "outputs": [
    {
     "data": {
      "text/plain": [
       "'medicare_id'"
      ]
     },
     "execution_count": 50,
     "metadata": {},
     "output_type": "execute_result"
    }
   ],
   "source": [
    "financials_df.iloc[:,np.argmax(financials_df.apply(lambda x: contains_mbi(x).mean(),axis=0))].name"
   ]
  },
  {
   "cell_type": "code",
   "execution_count": null,
   "id": "9fe5a836-148e-4599-9037-f350bb18ea9b",
   "metadata": {},
   "outputs": [],
   "source": [
    " "
   ]
  }
 ],
 "metadata": {
  "kernelspec": {
   "display_name": "Python 3 (ipykernel)",
   "language": "python",
   "name": "python3"
  },
  "language_info": {
   "codemirror_mode": {
    "name": "ipython",
    "version": 3
   },
   "file_extension": ".py",
   "mimetype": "text/x-python",
   "name": "python",
   "nbconvert_exporter": "python",
   "pygments_lexer": "ipython3",
   "version": "3.11.5"
  }
 },
 "nbformat": 4,
 "nbformat_minor": 5
}
